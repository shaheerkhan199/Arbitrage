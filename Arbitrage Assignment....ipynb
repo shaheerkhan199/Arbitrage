{
 "cells": [
  {
   "cell_type": "code",
   "execution_count": 5,
   "metadata": {},
   "outputs": [
    {
     "name": "stdout",
     "output_type": "stream",
     "text": [
      "{'ticker': {'base': 'BTC', 'target': 'USD', 'price': '6759.53831958', 'volume': '101266.95730774', 'change': '97.00722155', 'markets': [{'market': 'BitFinex', 'price': '6730.40000000', 'volume': 64851.56049308}, {'market': 'Bitstamp', 'price': '6722.34000000', 'volume': 11897.46577138}, {'market': 'Bittrex', 'price': '6747.00000000', 'volume': 3047.16428427}, {'market': 'C-Cex', 'price': '7433.00000000', 'volume': 2.91402024}, {'market': 'Cex.io', 'price': '6892.20000000', 'volume': 941.06691604}, {'market': 'Exmo', 'price': '6968.07968028', 'volume': 1148.73521463}, {'market': 'Hitbtc', 'price': '7066.82000000', 'volume': 6138.47}, {'market': 'Kraken', 'price': '6701.20000000', 'volume': 7987.27017567}, {'market': 'Livecoin', 'price': '7075.30005000', 'volume': 1514.37480676}, {'market': 'Poloniex', 'price': '6724.21502598', 'volume': 2639.35391055}, {'market': 'wexnz', 'price': '6910.53000000', 'volume': 952.35538}, {'market': 'YoBit', 'price': '7136.00000000', 'volume': 146.22633512}]}, 'timestamp': 1522576562, 'success': True, 'error': ''}\n"
     ]
    }
   ],
   "source": [
    "import pandas as pd\n",
    "import requests, json\n",
    "data = requests.get('https://api.cryptonator.com/api/full/btc-usd').json()\n",
    "print(data)"
   ]
  },
  {
   "cell_type": "code",
   "execution_count": 16,
   "metadata": {},
   "outputs": [
    {
     "name": "stdout",
     "output_type": "stream",
     "text": [
      "{'base': 'BTC', 'target': 'USD', 'price': '6759.53831958', 'volume': '101266.95730774', 'change': '97.00722155', 'markets': [{'market': 'BitFinex', 'price': '6730.40000000', 'volume': 64851.56049308}, {'market': 'Bitstamp', 'price': '6722.34000000', 'volume': 11897.46577138}, {'market': 'Bittrex', 'price': '6747.00000000', 'volume': 3047.16428427}, {'market': 'C-Cex', 'price': '7433.00000000', 'volume': 2.91402024}, {'market': 'Cex.io', 'price': '6892.20000000', 'volume': 941.06691604}, {'market': 'Exmo', 'price': '6968.07968028', 'volume': 1148.73521463}, {'market': 'Hitbtc', 'price': '7066.82000000', 'volume': 6138.47}, {'market': 'Kraken', 'price': '6701.20000000', 'volume': 7987.27017567}, {'market': 'Livecoin', 'price': '7075.30005000', 'volume': 1514.37480676}, {'market': 'Poloniex', 'price': '6724.21502598', 'volume': 2639.35391055}, {'market': 'wexnz', 'price': '6910.53000000', 'volume': 952.35538}, {'market': 'YoBit', 'price': '7136.00000000', 'volume': 146.22633512}]}\n"
     ]
    }
   ],
   "source": [
    "sub1 = data['ticker']\n",
    "print(sub1)"
   ]
  },
  {
   "cell_type": "code",
   "execution_count": 30,
   "metadata": {},
   "outputs": [
    {
     "name": "stdout",
     "output_type": "stream",
     "text": [
      "[{'market': 'BitFinex', 'price': '6730.40000000', 'volume': 64851.56049308}, {'market': 'Bitstamp', 'price': '6722.34000000', 'volume': 11897.46577138}, {'market': 'Bittrex', 'price': '6747.00000000', 'volume': 3047.16428427}, {'market': 'C-Cex', 'price': '7433.00000000', 'volume': 2.91402024}, {'market': 'Cex.io', 'price': '6892.20000000', 'volume': 941.06691604}, {'market': 'Exmo', 'price': '6968.07968028', 'volume': 1148.73521463}, {'market': 'Hitbtc', 'price': '7066.82000000', 'volume': 6138.47}, {'market': 'Kraken', 'price': '6701.20000000', 'volume': 7987.27017567}, {'market': 'Livecoin', 'price': '7075.30005000', 'volume': 1514.37480676}, {'market': 'Poloniex', 'price': '6724.21502598', 'volume': 2639.35391055}, {'market': 'wexnz', 'price': '6910.53000000', 'volume': 952.35538}, {'market': 'YoBit', 'price': '7136.00000000', 'volume': 146.22633512}]\n"
     ]
    }
   ],
   "source": [
    "sub2 = sub1['markets']\n",
    "print(sub2)"
   ]
  },
  {
   "cell_type": "code",
   "execution_count": 28,
   "metadata": {},
   "outputs": [
    {
     "name": "stdout",
     "output_type": "stream",
     "text": [
      "{'market': 'BitFinex', 'price': '6730.40000000', 'volume': 64851.56049308}\n",
      "{'market': 'Bitstamp', 'price': '6722.34000000', 'volume': 11897.46577138}\n",
      "{'market': 'Bittrex', 'price': '6747.00000000', 'volume': 3047.16428427}\n",
      "{'market': 'C-Cex', 'price': '7433.00000000', 'volume': 2.91402024}\n",
      "{'market': 'Cex.io', 'price': '6892.20000000', 'volume': 941.06691604}\n",
      "{'market': 'Exmo', 'price': '6968.07968028', 'volume': 1148.73521463}\n",
      "{'market': 'Hitbtc', 'price': '7066.82000000', 'volume': 6138.47}\n",
      "{'market': 'Kraken', 'price': '6701.20000000', 'volume': 7987.27017567}\n",
      "{'market': 'Livecoin', 'price': '7075.30005000', 'volume': 1514.37480676}\n",
      "{'market': 'Poloniex', 'price': '6724.21502598', 'volume': 2639.35391055}\n",
      "{'market': 'wexnz', 'price': '6910.53000000', 'volume': 952.35538}\n",
      "{'market': 'YoBit', 'price': '7136.00000000', 'volume': 146.22633512}\n"
     ]
    }
   ],
   "source": [
    "for i in sub2:\n",
    "    print(i)"
   ]
  },
  {
   "cell_type": "code",
   "execution_count": 64,
   "metadata": {},
   "outputs": [
    {
     "name": "stdout",
     "output_type": "stream",
     "text": [
      "      market          price        volume\n",
      "0   BitFinex  6730.40000000  64851.560493\n",
      "1   Bitstamp  6722.34000000  11897.465771\n",
      "2    Bittrex  6747.00000000   3047.164284\n",
      "3      C-Cex  7433.00000000      2.914020\n",
      "4     Cex.io  6892.20000000    941.066916\n",
      "5       Exmo  6968.07968028   1148.735215\n",
      "6     Hitbtc  7066.82000000   6138.470000\n",
      "7     Kraken  6701.20000000   7987.270176\n",
      "8   Livecoin  7075.30005000   1514.374807\n",
      "9   Poloniex  6724.21502598   2639.353911\n",
      "10     wexnz  6910.53000000    952.355380\n",
      "11     YoBit  7136.00000000    146.226335\n"
     ]
    }
   ],
   "source": [
    "import pandas as pd\n",
    "frame = pd.DataFrame(sub2)\n",
    "print(frame)"
   ]
  },
  {
   "cell_type": "code",
   "execution_count": 66,
   "metadata": {},
   "outputs": [
    {
     "name": "stdout",
     "output_type": "stream",
     "text": [
      "      market          price        volume\n",
      "3      C-Cex  7433.00000000      2.914020\n",
      "11     YoBit  7136.00000000    146.226335\n",
      "8   Livecoin  7075.30005000   1514.374807\n",
      "6     Hitbtc  7066.82000000   6138.470000\n",
      "5       Exmo  6968.07968028   1148.735215\n",
      "10     wexnz  6910.53000000    952.355380\n",
      "4     Cex.io  6892.20000000    941.066916\n",
      "2    Bittrex  6747.00000000   3047.164284\n",
      "0   BitFinex  6730.40000000  64851.560493\n",
      "9   Poloniex  6724.21502598   2639.353911\n",
      "1   Bitstamp  6722.34000000  11897.465771\n",
      "7     Kraken  6701.20000000   7987.270176\n"
     ]
    }
   ],
   "source": [
    "frame1=frame.sort_values(by = 'price', ascending = False)\n",
    "print(frame1)"
   ]
  },
  {
   "cell_type": "code",
   "execution_count": 68,
   "metadata": {},
   "outputs": [
    {
     "data": {
      "text/html": [
       "<div>\n",
       "<style>\n",
       "    .dataframe thead tr:only-child th {\n",
       "        text-align: right;\n",
       "    }\n",
       "\n",
       "    .dataframe thead th {\n",
       "        text-align: left;\n",
       "    }\n",
       "\n",
       "    .dataframe tbody tr th {\n",
       "        vertical-align: top;\n",
       "    }\n",
       "</style>\n",
       "<table border=\"1\" class=\"dataframe\">\n",
       "  <thead>\n",
       "    <tr style=\"text-align: right;\">\n",
       "      <th></th>\n",
       "      <th>market</th>\n",
       "      <th>price</th>\n",
       "      <th>volume</th>\n",
       "    </tr>\n",
       "  </thead>\n",
       "  <tbody>\n",
       "    <tr>\n",
       "      <th>3</th>\n",
       "      <td>C-Cex</td>\n",
       "      <td>7433.00000000</td>\n",
       "      <td>2.91402</td>\n",
       "    </tr>\n",
       "  </tbody>\n",
       "</table>\n",
       "</div>"
      ],
      "text/plain": [
       "  market          price   volume\n",
       "3  C-Cex  7433.00000000  2.91402"
      ]
     },
     "execution_count": 68,
     "metadata": {},
     "output_type": "execute_result"
    }
   ],
   "source": [
    "frame1.head(1)"
   ]
  },
  {
   "cell_type": "code",
   "execution_count": 69,
   "metadata": {},
   "outputs": [
    {
     "data": {
      "text/html": [
       "<div>\n",
       "<style>\n",
       "    .dataframe thead tr:only-child th {\n",
       "        text-align: right;\n",
       "    }\n",
       "\n",
       "    .dataframe thead th {\n",
       "        text-align: left;\n",
       "    }\n",
       "\n",
       "    .dataframe tbody tr th {\n",
       "        vertical-align: top;\n",
       "    }\n",
       "</style>\n",
       "<table border=\"1\" class=\"dataframe\">\n",
       "  <thead>\n",
       "    <tr style=\"text-align: right;\">\n",
       "      <th></th>\n",
       "      <th>market</th>\n",
       "      <th>price</th>\n",
       "      <th>volume</th>\n",
       "    </tr>\n",
       "  </thead>\n",
       "  <tbody>\n",
       "    <tr>\n",
       "      <th>7</th>\n",
       "      <td>Kraken</td>\n",
       "      <td>6701.20000000</td>\n",
       "      <td>7987.270176</td>\n",
       "    </tr>\n",
       "  </tbody>\n",
       "</table>\n",
       "</div>"
      ],
      "text/plain": [
       "   market          price       volume\n",
       "7  Kraken  6701.20000000  7987.270176"
      ]
     },
     "execution_count": 69,
     "metadata": {},
     "output_type": "execute_result"
    }
   ],
   "source": [
    "frame1.tail(1)"
   ]
  },
  {
   "cell_type": "code",
   "execution_count": 75,
   "metadata": {},
   "outputs": [
    {
     "name": "stdout",
     "output_type": "stream",
     "text": [
      "profit =  731.8000000000002\n"
     ]
    }
   ],
   "source": [
    "#for profit\n",
    "profit = float(frame['price'].max()) - float(frame['price'].min())\n",
    "print(\"profit = \",profit)"
   ]
  },
  {
   "cell_type": "code",
   "execution_count": 50,
   "metadata": {},
   "outputs": [
    {
     "name": "stdout",
     "output_type": "stream",
     "text": [
      "6701.20000000\n"
     ]
    }
   ],
   "source": [
    "p = frame['price'].min()\n",
    "print(p)"
   ]
  },
  {
   "cell_type": "code",
   "execution_count": 76,
   "metadata": {},
   "outputs": [
    {
     "name": "stdout",
     "output_type": "stream",
     "text": [
      "7433.00000000\n"
     ]
    }
   ],
   "source": [
    "p = frame['price'].max()\n",
    "print(p)"
   ]
  },
  {
   "cell_type": "code",
   "execution_count": 108,
   "metadata": {},
   "outputs": [
    {
     "data": {
      "text/plain": [
       "['6730.40000000',\n",
       " '6722.34000000',\n",
       " '6747.00000000',\n",
       " '7433.00000000',\n",
       " '6892.20000000',\n",
       " '6968.07968028',\n",
       " '7066.82000000',\n",
       " '6701.20000000',\n",
       " '7075.30005000',\n",
       " '6724.21502598',\n",
       " '6910.53000000',\n",
       " '7136.00000000']"
      ]
     },
     "execution_count": 108,
     "metadata": {},
     "output_type": "execute_result"
    }
   ],
   "source": [
    "pricesforplotting = list(frame['price'])\n",
    "pricesforplotting"
   ]
  },
  {
   "cell_type": "code",
   "execution_count": 109,
   "metadata": {},
   "outputs": [
    {
     "data": {
      "text/plain": [
       "['BitFinex',\n",
       " 'Bitstamp',\n",
       " 'Bittrex',\n",
       " 'C-Cex',\n",
       " 'Cex.io',\n",
       " 'Exmo',\n",
       " 'Hitbtc',\n",
       " 'Kraken',\n",
       " 'Livecoin',\n",
       " 'Poloniex',\n",
       " 'wexnz',\n",
       " 'YoBit']"
      ]
     },
     "execution_count": 109,
     "metadata": {},
     "output_type": "execute_result"
    }
   ],
   "source": [
    "labelforplotting = list(frame['market'])\n",
    "labelforplotting"
   ]
  },
  {
   "cell_type": "code",
   "execution_count": 110,
   "metadata": {},
   "outputs": [
    {
     "data": {
      "text/plain": [
       "[64851.560493079996,\n",
       " 11897.465771380001,\n",
       " 3047.1642842699998,\n",
       " 2.9140202400000002,\n",
       " 941.06691604000002,\n",
       " 1148.73521463,\n",
       " 6138.4700000000003,\n",
       " 7987.2701756699998,\n",
       " 1514.37480676,\n",
       " 2639.3539105499999,\n",
       " 952.35537999999997,\n",
       " 146.22633511999999]"
      ]
     },
     "execution_count": 110,
     "metadata": {},
     "output_type": "execute_result"
    }
   ],
   "source": [
    "volumeforplotting = list(frame['volume'])\n",
    "volumeforplotting"
   ]
  },
  {
   "cell_type": "code",
   "execution_count": 117,
   "metadata": {},
   "outputs": [
    {
     "data": {
      "image/png": "[encoded data removed]",
      "text/plain": [
       "<matplotlib.figure.Figure at 0x26be03ec898>"
      ]
     },
     "metadata": {},
     "output_type": "display_data"
    }
   ],
   "source": [
    "from matplotlib import pyplot as plt\n",
    "\n",
    "plt.scatter(volumeforplotting,pricesforplotting)\n",
    "\n",
    "for l, v, p in zip(labelforplotting, volumeforplotting, pricesforplotting):\n",
    "    plt.annotate(l,xy=(v, p),xytext=(5, -5),textcoords='offset points')\n",
    "\n",
    "plt.title(\"Arbitrage\")\n",
    "plt.xlabel(\"Volume\")\n",
    "plt.ylabel(\"prices\")\n",
    "\n",
    "plt.show()"
   ]
  },
  {
   "cell_type": "code",
   "execution_count": null,
   "metadata": {
    "collapsed": true
   },
   "outputs": [],
   "source": []
  }
 ],
 "metadata": {
  "kernelspec": {
   "display_name": "Python 3",
   "language": "python",
   "name": "python3"
  },
  "language_info": {
   "codemirror_mode": {
    "name": "ipython",
    "version": 3
   },
   "file_extension": ".py",
   "mimetype": "text/x-python",
   "name": "python",
   "nbconvert_exporter": "python",
   "pygments_lexer": "ipython3",
   "version": "3.6.2"
  }
 },
 "nbformat": 4,
 "nbformat_minor": 2
}
